{
  "nbformat": 4,
  "nbformat_minor": 0,
  "metadata": {
    "colab": {
      "name": "IDAO.ipynb",
      "provenance": [],
      "collapsed_sections": []
    },
    "kernelspec": {
      "name": "python3",
      "display_name": "Python 3"
    },
    "accelerator": "GPU"
  },
  "cells": [
    {
      "cell_type": "code",
      "metadata": {
        "id": "pzsvsGOZ2sPC",
        "colab": {
          "base_uri": "https://localhost:8080/"
        },
        "outputId": "8e4332b2-34e6-459a-8629-78b54f4cc82f"
      },
      "source": [
        "from google.colab import drive\n",
        "drive.mount('/content/gdrive')"
      ],
      "execution_count": null,
      "outputs": [
        {
          "output_type": "stream",
          "text": [
            "Drive already mounted at /content/gdrive; to attempt to forcibly remount, call drive.mount(\"/content/gdrive\", force_remount=True).\n"
          ],
          "name": "stdout"
        }
      ]
    },
    {
      "cell_type": "code",
      "metadata": {
        "id": "4lCVTyt6csGG"
      },
      "source": [
        "!mkdir data\n",
        "!tar -xf /content/gdrive/MyDrive/track_1.tar -C data"
      ],
      "execution_count": null,
      "outputs": []
    },
    {
      "cell_type": "code",
      "metadata": {
        "id": "YgXCpsvrcqb6"
      },
      "source": [
        "!pip install timm albumentations catalyst"
      ],
      "execution_count": null,
      "outputs": []
    },
    {
      "cell_type": "code",
      "metadata": {
        "id": "p1lqnOUa79iP"
      },
      "source": [
        "from pprint import pprint\n",
        "import pandas as pd\n",
        "import time\n",
        "import shutil\n",
        "import numpy as np\n",
        "import gc\n",
        "import torch\n",
        "import re\n",
        "import os\n",
        "import albumentations as A\n",
        "import pickle\n",
        "import timm\n",
        "import cv2\n",
        "import copy\n",
        "from torch import nn\n",
        "import matplotlib.pyplot as plt\n",
        "from torch.utils.data import Dataset, DataLoader\n",
        "from torchvision import transforms\n",
        "from sklearn.preprocessing import LabelEncoder\n",
        "from sklearn.model_selection import train_test_split\n",
        "from PIL import Image\n",
        "from pathlib import Path\n",
        "import warnings\n",
        "warnings.filterwarnings(\"ignore\")\n"
      ],
      "execution_count": null,
      "outputs": []
    },
    {
      "cell_type": "markdown",
      "metadata": {
        "id": "nsmklOVB7w79"
      },
      "source": [
        "**Custom DataSet**"
      ]
    },
    {
      "cell_type": "code",
      "metadata": {
        "id": "b_3FNMdVByRy",
        "colab": {
          "base_uri": "https://localhost:8080/"
        },
        "outputId": "aedfb860-7066-4888-98b2-2fbba07878b9"
      },
      "source": [
        "DATA_MODES = ['train', 'test', 'val']\n",
        "IMAGE_SIZE = (224, 224) #(576, 576)\n",
        "device = torch.device(\"cuda\" if torch.cuda.is_available() else \"cpu\")\n",
        "print(device)"
      ],
      "execution_count": null,
      "outputs": [
        {
          "output_type": "stream",
          "text": [
            "cuda\n"
          ],
          "name": "stdout"
        }
      ]
    },
    {
      "cell_type": "code",
      "metadata": {
        "id": "Qo7DfNkd722m"
      },
      "source": [
        "class IDAODataset(Dataset):\n",
        "    def __init__(self, files, mode, augmentation=None):\n",
        "        self.files = files\n",
        "        self.mode = mode\n",
        "        self.augmentation = augmentation\n",
        "        if self.mode not in DATA_MODES:\n",
        "            raise NameError('Current mode not in data modes')\n",
        "        self.len = len(self.files)\n",
        "        if mode == 'val':\n",
        "            self.label_encoder = pickle.load(open(\"label_encoder.pkl\", 'rb'))\n",
        "        else:\n",
        "            self.label_encoder = LabelEncoder()\n",
        "\n",
        "        if mode != 'test':\n",
        "            self.labels = {'classification': [path.parent.name for path in self.files],\n",
        "                           'regression': [int(re.search(r'[EN]R_(\\d+)', file.name)\n",
        "                           .group(1))\n",
        "                           for file in self.files]}\n",
        "        if self.mode == 'train':\n",
        "            self.label_encoder.fit(self.labels['classification'])\n",
        "            with open('label_encoder.pkl', 'wb') as le_dump:\n",
        "                pickle.dump(self.label_encoder, le_dump)\n",
        "\n",
        "    def __len__(self):\n",
        "        return self.len\n",
        "    \n",
        "    @staticmethod\n",
        "    def crop(img, size=IMAGE_SIZE, stride=32):\n",
        "        m, ms = (0, 0), 0\n",
        "        for i in range(0, img.shape[0] - size[0], stride):\n",
        "            for j in range(0, img.shape[1] - size[1], stride):\n",
        "                cs = img[\n",
        "                        i: i + size[0], \n",
        "                        j: j + size[1]\n",
        "                    ].sum()\n",
        "                if cs > ms:\n",
        "                    m, ms = (i, j), cs\n",
        "        return img[m[0]: m[0] + size[0], m[1]: m[1] + size[1]]\n",
        "    \n",
        "    def load_sample(self, file):\n",
        "        image = Image.open(file)\n",
        "        image.load()\n",
        "        return image\n",
        "\n",
        "    def _prepare_sample(self, image):\n",
        "        \"\"\"Here image could be processed\"\"\"\n",
        "        image = np.array(image)\n",
        "        image = cv2.cvtColor(image, cv2.COLOR_GRAY2RGB)\n",
        "        return self.crop(np.array(image))\n",
        "\n",
        "    def show_image(self, index):\n",
        "        image = self.load_sample(self.files[index])\n",
        "        image.show()\n",
        "\n",
        "    def __getitem__(self, index):\n",
        "        if index < 0 or index > len(self.files):\n",
        "            raise IndexError()\n",
        "        image = self.load_sample(self.files[index])\n",
        "        image = image.resize(IMAGE_SIZE)\n",
        "        image = np.array(np.array(image) / 225, dtype='float32')\n",
        "        image = self._prepare_sample(image)\n",
        "\n",
        "        transform = transforms.Compose([\n",
        "            transforms.ToTensor(),\n",
        "            transforms.Normalize(mean=[0.45], std=[0.246])  #random_values, should be found\n",
        "        ])\n",
        "\n",
        "        image = transform(image)\n",
        "        if self.mode == 'test':\n",
        "            return image\n",
        "        if self.augmentation is not None:\n",
        "            image = augmentation(image=image)[\"image\"]\n",
        "        label_cl = self.label_encoder.transform([self.labels['classification'][index]]).item()\n",
        "        label_reg = self.labels['regression'][index]\n",
        "        return image, label_cl, label_reg\n"
      ],
      "execution_count": null,
      "outputs": []
    },
    {
      "cell_type": "markdown",
      "metadata": {
        "id": "jNy4tm2VsIPp"
      },
      "source": [
        "**Creating loaders**"
      ]
    },
    {
      "cell_type": "code",
      "metadata": {
        "id": "AoTdiPzracWx"
      },
      "source": [
        "TRAIN_DIR = Path(\"./data/idao_dataset/train\")\n",
        "train_val_files = sorted(list(TRAIN_DIR.rglob('*.png')))"
      ],
      "execution_count": null,
      "outputs": []
    },
    {
      "cell_type": "code",
      "metadata": {
        "id": "gB2TzUr9lNmC"
      },
      "source": [
        "def show_image(file, label=None):\n",
        "    image = Image.open(file)\n",
        "    if label is None:\n",
        "        label=''\n",
        "    plt.imshow(image, label=label)"
      ],
      "execution_count": null,
      "outputs": []
    },
    {
      "cell_type": "code",
      "metadata": {
        "colab": {
          "base_uri": "https://localhost:8080/",
          "height": 286
        },
        "id": "quIRco_sls0Q",
        "outputId": "902cb23e-0cbf-4cd2-a5ee-cb829900f26b"
      },
      "source": [
        "print(train_val_files[0])\n",
        "show_image(train_val_files[0])"
      ],
      "execution_count": null,
      "outputs": [
        {
          "output_type": "stream",
          "text": [
            "data/idao_dataset/train/ER/-0.003018522635102272__CYGNO_60_40_ER_30_keV_930V_30cm_IDAO_iso_crop_hist_pic_run1_ev121;1.png\n"
          ],
          "name": "stdout"
        },
        {
          "output_type": "display_data",
          "data": {
            "image/png": "[encoded data removed]",
            "text/plain": [
              "<Figure size 432x288 with 1 Axes>"
            ]
          },
          "metadata": {
            "tags": [],
            "needs_background": "light"
          }
        }
      ]
    },
    {
      "cell_type": "code",
      "metadata": {
        "id": "AteOKWtcnH-9"
      },
      "source": [
        "TRAIN_SIZE = 0.95\n",
        "BATCH_SIZE = 64\n",
        "X_train, X_val = train_test_split(train_val_files, train_size=TRAIN_SIZE, shuffle=True)\n",
        "\n",
        "train_set = IDAODataset(X_train, mode='train')\n",
        "val_set = IDAODataset(X_val, mode='val')\n",
        "train_val_loader = {'train' : DataLoader(train_set, batch_size=BATCH_SIZE),\n",
        "                    'val' : DataLoader(val_set, batch_size=BATCH_SIZE)}"
      ],
      "execution_count": null,
      "outputs": []
    },
    {
      "cell_type": "code",
      "metadata": {
        "id": "d32hNw5irEqa"
      },
      "source": [
        "def vizualize_loss(loss, num_epochs=None):\n",
        "    if num_epochs is None:\n",
        "        epochs = range(1, len(loss['train']) + 1)\n",
        "    else:\n",
        "        epochs = range(1, num_epochs + 1)\n",
        "    plt.plot(epochs, loss['train'], 'g', label='Training loss')\n",
        "    plt.plot(epochs, loss['val'], 'b', label='Validation loss')\n",
        "    plt.title('Training and validation loss')\n",
        "    plt.xlabel('Epochs')\n",
        "    plt.ylabel('Loss')\n",
        "    plt.show()\n",
        "\n",
        "def train(model, loader, optimizer, criterion, num_epochs=10, scheduler=None, \n",
        "          phases=['train', 'val']):\n",
        "    '''\n",
        "    Expect loader to be a dict with 'train' and 'val' keys\n",
        "    '''\n",
        "\n",
        "    start_time = time.time()\n",
        "    best_model_wts = copy.deepcopy(model.state_dict())\n",
        "    best_loss = 100000.0\n",
        "    history = {'train' : {'loss' : [], 'loss_cl' :[], 'loss_reg': []}, \n",
        "               'val': {'loss' : [], 'loss_cl' : [], 'loss_reg': []}}\n",
        "\n",
        "    for i in range(num_epochs):\n",
        "        print(f'Epoch: {i+1} / {num_epochs}')\n",
        "        print('-'*10)\n",
        "        for phase in phases:\n",
        "            model.train(phase == 'train')\n",
        "            \n",
        "            running_loss = 0.\n",
        "            running_loss_reg = 0.\n",
        "            running_loss_cl = 0.\n",
        "            processed_size = 0\n",
        "\n",
        "            for inputs, labels_cl, labels_reg in loader[phase]:\n",
        "                inputs = inputs.to(device)\n",
        "                labels_cl = labels_cl.to(device).double()\n",
        "                labels_reg = labels_reg.to(device).double()\n",
        "                optimizer.zero_grad()\n",
        "                with torch.set_grad_enabled(phase == 'train'):\n",
        "                    outputs_cl, outputs_reg = model(inputs)\n",
        "                    outputs_cl = outputs_cl.squeeze().double()\n",
        "                    outputs_reg = outputs_reg.squeeze().double()\n",
        "                    loss_cl = criterion['classification'](outputs_cl, labels_cl)\n",
        "                    loss_reg = criterion['regression'](outputs_reg, labels_reg)\n",
        "                    loss = loss_cl + loss_reg\n",
        "                if phase == 'train':\n",
        "                    loss.backward()\n",
        "                    optimizer.step()\n",
        "\n",
        "                running_loss_reg += loss_reg\n",
        "                running_loss += loss\n",
        "                running_loss_cl += loss_cl\n",
        "\n",
        "                processed_size += inputs.size(0)\n",
        "            \n",
        "            phase_loss_cl = running_loss_cl / processed_size\n",
        "            phase_loss_reg = running_loss_reg / processed_size\n",
        "            phase_loss = running_loss / processed_size\n",
        "\n",
        "            if phase == 'val' and phase_loss < best_loss:\n",
        "                best_model_wts = copy.deepcopy(model.state_dict())\n",
        "                best_loss = phase_loss\n",
        "\n",
        "            print(f'{phase}  loss: {phase_loss}  loss_cl: {phase_loss_cl}  loss_reg: {phase_loss_reg}')\n",
        "            history[phase]['loss'].append(phase_loss)\n",
        "            history[phase]['loss_cl'].append(phase_loss_cl)\n",
        "            history[phase]['loss_reg'].append(phase_loss_reg)\n",
        "        if scheduler is not None:\n",
        "            scheduler.step()\n",
        "    print(f'Elapsed time: {str(time.ctime(time.time() - start_time))}')\n",
        "    return model, history, best_model_wts"
      ],
      "execution_count": null,
      "outputs": []
    },
    {
      "cell_type": "code",
      "metadata": {
        "id": "KOY7LXvSQmQ1"
      },
      "source": [
        "class IDAONet(nn.Module):\n",
        "    def __init__(self):\n",
        "        super().__init__()\n",
        "        self.model = timm.create_model('tf_efficientnet_b1_ns', num_classes=0).to(device)\n",
        "        self.head = nn.Sequential(\n",
        "            nn.Linear(1280, 256),\n",
        "            nn.ReLU()\n",
        "        ).to(device)\n",
        "        self.classifier = nn.Sequential(\n",
        "            nn.Linear(1280, 256),\n",
        "            nn.ReLU(),\n",
        "            nn.Linear(256, 1),\n",
        "            nn.Sigmoid()\n",
        "        ).to(device)\n",
        "\n",
        "        self.regressor = nn.Sequential(\n",
        "            nn.Linear(1280, 512),\n",
        "            nn.ReLU(),\n",
        "            nn.Linear(512, 256),\n",
        "            nn.ReLU(),\n",
        "            nn.Linear(256, 1),\n",
        "        ).to(device)\n",
        "    def forward(self, x):\n",
        "        x = self.model.forward(x)\n",
        "        res_cl = self.classifier(x)\n",
        "        res_reg = self.regressor(x)\n",
        "        return res_cl, res_reg"
      ],
      "execution_count": null,
      "outputs": []
    },
    {
      "cell_type": "code",
      "metadata": {
        "id": "vx6YcDwB2PsI"
      },
      "source": [
        "model = IDAONet()\n",
        "criterion_cl = nn.BCELoss()\n",
        "criterion_reg = nn.L1Loss()\n",
        "optimizer = torch.optim.Adam(model.parameters(), lr=0.0002, amsgrad=True)\n",
        "scheduler = torch.optim.lr_scheduler.StepLR(optimizer=optimizer, step_size=1, gamma=0.95)"
      ],
      "execution_count": null,
      "outputs": []
    },
    {
      "cell_type": "code",
      "metadata": {
        "id": "Fu2ldbE27iEM"
      },
      "source": [
        "gc.collect()\n",
        "num_epochs = 20\n",
        "model, history, best_weights = train(model, loader=train_val_loader, num_epochs=num_epochs, \n",
        "                       optimizer=optimizer, scheduler=scheduler, criterion=\n",
        "                       {'classification': criterion_cl,\n",
        "                        'regression': criterion_reg})"
      ],
      "execution_count": null,
      "outputs": []
    },
    {
      "cell_type": "code",
      "metadata": {
        "id": "-HKyuYhF9r9e"
      },
      "source": [
        "vizualize_loss({'train': history['train']['loss'], 'val': history['val']['loss']}, num_epochs=num_epochs)"
      ],
      "execution_count": null,
      "outputs": []
    },
    {
      "cell_type": "markdown",
      "metadata": {
        "id": "SJf-SvdpsRDI"
      },
      "source": [
        "**Make submission**\n"
      ]
    },
    {
      "cell_type": "code",
      "metadata": {
        "id": "2DqsWGp9Zz66"
      },
      "source": [
        "def round_nearest(a):\n",
        "    nums = [1, 3, 6, 10, 20, 30]\n",
        "    for i in range(len(a)):\n",
        "        mi = float(\"INF\")\n",
        "        res = 1\n",
        "        for num in nums:\n",
        "            if abs(a[i] - num) < mi:\n",
        "                mi = abs(a[i] - num)\n",
        "                res = num\n",
        "        a[i] = res\n",
        "    return a\n"
      ],
      "execution_count": null,
      "outputs": []
    },
    {
      "cell_type": "code",
      "metadata": {
        "id": "wZnnrnaAKtZY"
      },
      "source": [
        "def predict(model, test_loader):\n",
        "    with torch.no_grad():\n",
        "        res = {'classification': np.empty(shape=(0)),\n",
        "               'regression': np.empty(shape=(0))}\n",
        " \n",
        "        for inputs in test_loader:\n",
        "            inputs = inputs.to(device)\n",
        "            model.eval()\n",
        "            outputs_cl, outputs_reg = model(inputs)\n",
        "            outputs_cl = np.array(outputs_cl.cpu().squeeze())\n",
        "            outputs_reg = np.array(outputs_reg.cpu().squeeze())\n",
        "            res['classification'] = np.concatenate((res['classification'], outputs_cl), axis=None)\n",
        "            res['regression'] = np.concatenate((res['regression'], outputs_reg), axis=None)\n",
        "    return res\n",
        " \n",
        "TEST_DIR_PUBLIC = Path(\"./data/idao_dataset/public_test\")\n",
        "TEST_DIR_PRIVATE = Path(\"./data/idao_dataset/private_test\")\n",
        "test_files = sorted(list(TEST_DIR_PUBLIC.rglob('*.png')) + list(TEST_DIR_PRIVATE.rglob(\"*.png\")))\n",
        "print(f'Num test files: {len(test_files)}')\n",
        "test_set = IDAODataset(test_files, mode='test')\n",
        "test_loader = DataLoader(test_set, batch_size=BATCH_SIZE, shuffle=False)\n",
        "label_encoder = pickle.load(open(\"label_encoder.pkl\", 'rb'))\n",
        "submit = pd.DataFrame(columns=['id'])\n",
        "submit['id'] = [path.name.replace('.png', '') for path in test_set.files]\n",
        "model = IDAONet().to(device)\n",
        "model.load_state_dict(best_weights)\n",
        "probs = predict(model, test_loader)\n",
        "preds_cl = label_encoder.inverse_transform(np.round(probs['classification']).astype(int))\n",
        "convert_to_int = {\n",
        "    'ER': 1,\n",
        "    'NR': 0,\n",
        "}\n",
        "submit['classification_predictions'] = [convert_to_int[i] for i in preds_cl]\n",
        "\n",
        "preds_reg = round_nearest(list(probs['regression']))\n",
        "submit['regression_predictions'] = preds_reg"
      ],
      "execution_count": null,
      "outputs": []
    },
    {
      "cell_type": "code",
      "metadata": {
        "id": "Oh9dvK9yLlca"
      },
      "source": [
        "submit.to_csv('submission.csv', index=False)"
      ],
      "execution_count": null,
      "outputs": []
    },
    {
      "cell_type": "code",
      "metadata": {
        "id": "hhZUYTDYqzAV"
      },
      "source": [
        "torch.save(model.state_dict(), 'model_state_dict')"
      ],
      "execution_count": null,
      "outputs": []
    }
  ]
}